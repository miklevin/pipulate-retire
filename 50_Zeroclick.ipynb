{
 "cells": [
  {
   "cell_type": "code",
   "execution_count": null,
   "id": "7f59ad78-7c15-40a7-9711-ba9300024e8b",
   "metadata": {},
   "outputs": [],
   "source": [
    "import config\n",
    "import pickle\n",
    "import pipulate\n",
    "from sqlitedict import SqliteDict as sqldict\n",
    "from bs4 import BeautifulSoup as bsoup\n",
    "\n",
    "# Load the homepage back into memory\n",
    "responsedb = f\"{config.name}/responses.db\"\n",
    "with sqldict(responsedb) as db:\n",
    "    response = db[config.site]\n",
    "    soup = bsoup(response.text, \"html.parser\")\n",
    "\n",
    "# Get all the links from the homepage\n",
    "links = pipulate.links(soup, config.site)\n",
    "\n",
    "# Record all the click-depth 1 pages\n",
    "clickdepthdb = f\"{config.name}/clickdepths.db\"\n",
    "with sqldict(clickdepthdb) as db:\n",
    "    db[config.site] = 0\n",
    "    for url in links:\n",
    "        db[url] = 1\n",
    "    db.commit()\n",
    "\n",
    "# Record all the click-depth 1 edges\n",
    "edgesdb = f\"{config.name}/edges.db\"\n",
    "with sqldict(edgesdb) as db:\n",
    "    for url in links:\n",
    "        atuple = (config.site, url)\n",
    "        db[pickle.dumps(atuple)] = None\n",
    "    db.commit()"
   ]
  },
  {
   "cell_type": "code",
   "execution_count": null,
   "id": "bd9729fb-92d7-40e1-b77c-197de8d4b2da",
   "metadata": {},
   "outputs": [],
   "source": []
  }
 ],
 "metadata": {
  "kernelspec": {
   "display_name": "Python 3 (ipykernel)",
   "language": "python",
   "name": "python3"
  },
  "language_info": {
   "codemirror_mode": {
    "name": "ipython",
    "version": 3
   },
   "file_extension": ".py",
   "mimetype": "text/x-python",
   "name": "python",
   "nbconvert_exporter": "python",
   "pygments_lexer": "ipython3"
  }
 },
 "nbformat": 4,
 "nbformat_minor": 5
}
