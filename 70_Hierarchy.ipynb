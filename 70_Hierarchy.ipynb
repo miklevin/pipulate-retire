{
 "cells": [
  {
   "cell_type": "code",
   "execution_count": null,
   "id": "cb38441d-cbef-477e-92a8-d70fa6e4de02",
   "metadata": {},
   "outputs": [],
   "source": [
    "import config\n",
    "from collections import Counter\n",
    "from sqlitedict import SqliteDict as sqldict\n",
    "\n",
    "clickdepthdb = f\"{config.name}/clickdepths.db\"\n",
    "\n",
    "counter = Counter()\n",
    "with sqldict(clickdepthdb) as db:\n",
    "    for i, url in enumerate(db):\n",
    "        ...\n",
    "print(i)"
   ]
  },
  {
   "cell_type": "code",
   "execution_count": null,
   "id": "43c9077b-ee6b-4591-8a96-ff0814a8d118",
   "metadata": {},
   "outputs": [],
   "source": [
    "counter = Counter()\n",
    "with sqldict(clickdepthdb) as db:\n",
    "    for i, url in enumerate(db):\n",
    "        if i % 100 == 0:\n",
    "            print(i, end=\" \")\n",
    "        depth = db[url]\n",
    "        counter[depth] += 1\n",
    "print()\n",
    "print(counter)"
   ]
  },
  {
   "cell_type": "code",
   "execution_count": null,
   "id": "7d4a4d26-d584-49ab-9a95-1e352a8cc82f",
   "metadata": {},
   "outputs": [],
   "source": [
    "import matplotlib.pyplot as plt\n",
    "\n",
    "# Define the values for each level of the pyramid\n",
    "values = [counter[i] for i in range(len(counter))]\n",
    "\n",
    "# Define the x-coordinates for each level of the pyramid\n",
    "x_coords = [0, 1, 2]\n",
    "\n",
    "# Create a bar chart with the values and x-coordinates\n",
    "plt.bar(x_coords, values)\n",
    "\n",
    "# Set the x-tick labels to show the level number\n",
    "plt.xticks(x_coords, ['Homepage', '1 Click', '2 Clicks'])\n",
    "\n",
    "# Set the y-tick labels to show the values\n",
    "plt.yticks(values)\n",
    "\n",
    "# Add a title and axis labels\n",
    "plt.title('Pages Reachable by 2nd Click')\n",
    "plt.xlabel('Depth')\n",
    "plt.ylabel('URLs')\n",
    "\n",
    "# Show the plot\n",
    "plt.show()\n"
   ]
  },
  {
   "cell_type": "code",
   "execution_count": null,
   "id": "9a5e6b01-cc49-4b36-876c-acc8926162d7",
   "metadata": {},
   "outputs": [],
   "source": []
  }
 ],
 "metadata": {
  "kernelspec": {
   "display_name": "Python 3 (ipykernel)",
   "language": "python",
   "name": "python3"
  },
  "language_info": {
   "codemirror_mode": {
    "name": "ipython",
    "version": 3
   },
   "file_extension": ".py",
   "mimetype": "text/x-python",
   "name": "python",
   "nbconvert_exporter": "python",
   "pygments_lexer": "ipython3"
  }
 },
 "nbformat": 4,
 "nbformat_minor": 5
}
