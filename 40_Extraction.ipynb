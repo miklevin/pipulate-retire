{
 "cells": [
  {
   "cell_type": "code",
   "execution_count": null,
   "id": "baf7c15c-477f-404f-b6b9-f514101e9681",
   "metadata": {},
   "outputs": [],
   "source": [
    "import config\n",
    "from sqlitedict import SqliteDict as sqldict\n",
    "from bs4 import BeautifulSoup as bsoup\n",
    "\n",
    "responsedb = f\"{config.name}/responses.db\"\n",
    "\n",
    "with sqldict(responsedb) as db:\n",
    "    for url in db:\n",
    "        response = db[url]\n",
    "        soup = bsoup(response.text, \"html.parser\")\n",
    "        title = soup.title.string.strip()\n",
    "        print(title)"
   ]
  },
  {
   "cell_type": "code",
   "execution_count": null,
   "id": "cd500ee9-3b32-4925-bbbb-e85bb30af3de",
   "metadata": {},
   "outputs": [],
   "source": [
    "with sqldict(responsedb) as db:\n",
    "    for url in db:\n",
    "        response = db[url]\n",
    "        soup = bsoup(response.text, \"html.parser\")\n",
    "        title = soup.title.string.strip()\n",
    "        description = soup.find('meta', attrs={'name': 'description'})['content']\n",
    "        canonical = soup.find('link', attrs={'rel': 'canonical'})['href']\n",
    "        headlines = soup.find_all([\"h1\", \"h2\", \"h3\", \"h4\", \"h5\", \"h6\"])\n",
    "        headlines.sort(key=lambda x: int(x.name[1:]))\n",
    "        print(url)\n",
    "        print(f\"Canonical: {canonical}\")\n",
    "        print(f\"Status code: {response.status_code}\")\n",
    "        print(f\"Title: {title}\")\n",
    "        print(f\"Meta description: {description}\")\n",
    "        for headline in headlines:\n",
    "            print(f\"{headline.name}: {headline.text.strip()}\")\n",
    "        print()"
   ]
  },
  {
   "cell_type": "code",
   "execution_count": null,
   "id": "fa30b385-48cc-41a6-b03f-1ba646ffc160",
   "metadata": {},
   "outputs": [],
   "source": []
  }
 ],
 "metadata": {
  "kernelspec": {
   "display_name": "Python 3 (ipykernel)",
   "language": "python",
   "name": "python3"
  },
  "language_info": {
   "codemirror_mode": {
    "name": "ipython",
    "version": 3
   },
   "file_extension": ".py",
   "mimetype": "text/x-python",
   "name": "python",
   "nbconvert_exporter": "python",
   "pygments_lexer": "ipython3"
  }
 },
 "nbformat": 4,
 "nbformat_minor": 5
}
