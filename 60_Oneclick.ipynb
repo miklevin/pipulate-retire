{
 "cells": [
  {
   "cell_type": "code",
   "execution_count": null,
   "id": "35119fe2-de0e-44c7-be06-837fe3ab9fc1",
   "metadata": {},
   "outputs": [],
   "source": [
    "import config\n",
    "import pickle\n",
    "import pipulate\n",
    "import requests\n",
    "from time import sleep\n",
    "from sqlitedict import SqliteDict as sqldict\n",
    "from bs4 import BeautifulSoup as bsoup\n",
    "\n",
    "user_agent = \"Mozilla/5.0 (Windows NT 10.0; Win64; x64) AppleWebKit/537.36 (KHTML, like Gecko) Chrome/116.0.0.0 Safari/537.36\"\n",
    "headers = {\"user-agent\": user_agent}\n",
    "\n",
    "# Build a list of all URLs found on homepage\n",
    "clickdepthdb = f\"{config.name}/clickdepths.db\"\n",
    "onedepth = []\n",
    "with sqldict(clickdepthdb) as db:\n",
    "    for url in db:\n",
    "        depth = db[url]\n",
    "        if depth == 1:\n",
    "            onedepth.append(url)"
   ]
  },
  {
   "cell_type": "code",
   "execution_count": null,
   "id": "f04f190b-a6e8-4b50-bc71-e6fe94d98bc4",
   "metadata": {},
   "outputs": [],
   "source": [
    "responsedb = f\"{config.name}/responses.db\"\n",
    "\n",
    "for i, url in enumerate(onedepth):\n",
    "    with sqldict(responsedb) as db:\n",
    "        countdown = len(onedepth) - i\n",
    "        if url in db:\n",
    "            response = db[url]\n",
    "            print(countdown, response.status_code, url)\n",
    "        else:\n",
    "            print(countdown, url, end=\" \")\n",
    "            response = requests.get(url, headers=headers)\n",
    "            print(response.status_code)\n",
    "            db[url] = response\n",
    "            db.commit()\n",
    "            sleep(.5)"
   ]
  },
  {
   "cell_type": "code",
   "execution_count": null,
   "id": "68a04f56-dc6d-4cee-acb3-e1e8a8234f17",
   "metadata": {},
   "outputs": [],
   "source": [
    "clickdepthdb = f\"{config.name}/clickdepths.db\"\n",
    "edgesdb = f\"{config.name}/edges.db\"\n",
    "\n",
    "with sqldict(responsedb) as db:\n",
    "    for i, url in enumerate(onedepth):\n",
    "        countdown = len(onedepth) - i\n",
    "        print(countdown, end=\" \")\n",
    "        if url in db:\n",
    "            response = db[url]\n",
    "            if response.status_code == 200:\n",
    "                soup = bsoup(response.text, \"html.parser\")\n",
    "                links = pipulate.links(soup, url)\n",
    "                # Record newly discoverd links as click-depth 2\n",
    "                with sqldict(clickdepthdb) as db2:\n",
    "                    for link in links:\n",
    "                        if link not in db2:\n",
    "                            db2[link] = 2\n",
    "                    db2.commit()\n",
    "                # Record what pages new links were found on (edges) \n",
    "                with sqldict(edgesdb) as db3:\n",
    "                    for url in links:\n",
    "                        atuple = (url, link)\n",
    "                        db3[pickle.dumps(atuple)] = None\n",
    "                    db3.commit()"
   ]
  },
  {
   "cell_type": "code",
   "execution_count": null,
   "id": "d2e312ee-9742-4aad-a347-220d40ed783c",
   "metadata": {},
   "outputs": [],
   "source": []
  }
 ],
 "metadata": {
  "kernelspec": {
   "display_name": "Python 3 (ipykernel)",
   "language": "python",
   "name": "python3"
  },
  "language_info": {
   "codemirror_mode": {
    "name": "ipython",
    "version": 3
   },
   "file_extension": ".py",
   "mimetype": "text/x-python",
   "name": "python",
   "nbconvert_exporter": "python",
   "pygments_lexer": "ipython3"
  }
 },
 "nbformat": 4,
 "nbformat_minor": 5
}
