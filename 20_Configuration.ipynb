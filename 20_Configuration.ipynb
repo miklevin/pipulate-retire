{
 "cells": [
  {
   "cell_type": "code",
   "execution_count": null,
   "id": "9a308453-c9f9-4e5f-a5fc-b561f40e61d4",
   "metadata": {},
   "outputs": [],
   "source": [
    "# filename: 20_Configuration.ipynb\n",
    "import config\n",
    "from pathlib import Path\n",
    "\n",
    "project_path = Path(config.name)\n",
    "project_path.mkdir(parents=True, exist_ok=True)"
   ]
  },
  {
   "cell_type": "code",
   "execution_count": null,
   "id": "712d8fb7-52b5-4911-bb32-390becf053c6",
   "metadata": {},
   "outputs": [],
   "source": []
  }
 ],
 "metadata": {
  "kernelspec": {
   "display_name": "Python 3 (ipykernel)",
   "language": "python",
   "name": "python3"
  },
  "language_info": {
   "codemirror_mode": {
    "name": "ipython",
    "version": 3
   },
   "file_extension": ".py",
   "mimetype": "text/x-python",
   "name": "python",
   "nbconvert_exporter": "python",
   "pygments_lexer": "ipython3"
  }
 },
 "nbformat": 4,
 "nbformat_minor": 5
}
