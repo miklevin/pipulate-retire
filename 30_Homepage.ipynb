{
 "cells": [
  {
   "cell_type": "code",
   "execution_count": null,
   "id": "4828faaf-1c5a-4ed7-b3be-de1d86d92718",
   "metadata": {},
   "outputs": [],
   "source": [
    "# filename: 30_Homepage.ipynb\n",
    "import config\n",
    "import requests\n",
    "from sqlitedict import SqliteDict as sqldict\n",
    "\n",
    "user_agent = \"Mozilla/5.0 (Windows NT 10.0; Win64; x64) AppleWebKit/537.36 (KHTML, like Gecko) Chrome/116.0.0.0 Safari/537.36\"\n",
    "headers = {\"user-agent\": user_agent}\n",
    "response = requests.get(config.site, headers=headers)\n",
    "\n",
    "responsedb = f\"{config.name}/responses.db\"\n",
    "\n",
    "with sqldict(responsedb) as db:\n",
    "    db[config.site] = response\n",
    "    db.commit()"
   ]
  },
  {
   "cell_type": "code",
   "execution_count": null,
   "id": "98dc1a19-fa0d-4c71-9cbc-7a6144ebda4f",
   "metadata": {},
   "outputs": [],
   "source": [
    "print(response.text)"
   ]
  },
  {
   "cell_type": "code",
   "execution_count": null,
   "id": "7b97bdbc-25bb-40f3-b678-f3eacbcb5089",
   "metadata": {},
   "outputs": [],
   "source": []
  }
 ],
 "metadata": {
  "kernelspec": {
   "display_name": "Python 3 (ipykernel)",
   "language": "python",
   "name": "python3"
  },
  "language_info": {
   "codemirror_mode": {
    "name": "ipython",
    "version": 3
   },
   "file_extension": ".py",
   "mimetype": "text/x-python",
   "name": "python",
   "nbconvert_exporter": "python",
   "pygments_lexer": "ipython3"
  }
 },
 "nbformat": 4,
 "nbformat_minor": 5
}
